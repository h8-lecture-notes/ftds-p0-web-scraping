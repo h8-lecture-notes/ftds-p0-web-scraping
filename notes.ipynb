{
 "cells": [
  {
   "cell_type": "markdown",
   "metadata": {},
   "source": [
    "# Web Scraping"
   ]
  },
  {
   "cell_type": "markdown",
   "metadata": {},
   "source": [
    "- Web Scraping in python can be performed using these packages:\n",
    "    - Selenium + BeautifulSoup4\n",
    "        - `Selenium` will open web browser and redirects to specific website url automatically\n",
    "        - `BeautifulSoup4` can be used to read HTML of a website and parse/convert them into text or \n",
    "    - Requests (optional)\n",
    "        - `Requests` can be used to access website's directly using python without requiring web browser."
   ]
  },
  {
   "cell_type": "markdown",
   "metadata": {},
   "source": [
    "## Setup Selenium"
   ]
  },
  {
   "cell_type": "markdown",
   "metadata": {},
   "source": [
    "- Make sure to set your preferred browser as default browser.\n",
    "- Additionally you can dowload the appropriate driver for your web browser.\n",
    "    - Follow the link -> https://colab.research.google.com/github/FTDS-learning-materials/phase-0/blob/main/w3/P0W3D1PM%20-%20Web%20Scraping.ipynb#scrollTo=Gxb42wTJIzyj\n",
    "    - Tutorial setup reference:\n",
    "        - Chrome https://www.lambdatest.com/blog/python-selenium-with-chrome/\n",
    "        - Firefox https://www.browserstack.com/guide/geckodriver-selenium-python\n",
    "        - Edge https://learn.microsoft.com/en-us/microsoft-edge/webdriver-chromium/?tabs=python"
   ]
  },
  {
   "cell_type": "markdown",
   "metadata": {},
   "source": [
    "## Scraping code"
   ]
  },
  {
   "cell_type": "markdown",
   "metadata": {},
   "source": [
    "- We can use the the following code to perform scraping in python\n",
    "    ```py\n",
    "    # Import packages\n",
    "    from bs4 import BeautifulSoup\n",
    "    from selenium import webdriver\n",
    "\n",
    "    # setup seleinum webdriver\n",
    "    driver = webdriver.Chrome()\n",
    "\n",
    "    # define target website URL\n",
    "    url=\"https://www.scrapethissite.com/pages/simple/\"\n",
    "\n",
    "    # redirect selenium to open the URL\n",
    "    driver.get(url)\n",
    "\n",
    "    # extract page content (HTML) from the website\n",
    "    html = driver.page_source\n",
    "\n",
    "    # convert/parse the HTML into BeautifulSoup object\n",
    "    soup = BeautifulSoup(html, \"html.parser\")\n",
    "\n",
    "    # print html content from object using `prettify()`` method\n",
    "    print(soup.prettify())\n",
    "    ```\n",
    "- If we want to extract specific data from the HTML we can use these following methods:\n",
    "    - .find() -> find the first element in a HTML that matches your criteria.\n",
    "        - Example:\n",
    "            ```html\n",
    "            <html>\n",
    "                <body>\n",
    "                    <h1 class='title'>Lorem Ipsum</h1>\n",
    "                    <ul class='list-data'>\n",
    "                        <li id='data1'>dolor</li>\n",
    "                        <li id='data2'>sit</li>\n",
    "                        <li id='data3'>amet</li>\n",
    "                    </ul>\n",
    "                </body>\n",
    "            </html>\n",
    "            ```\n",
    "            \n",
    "            - To extract \"Lorem Ipsum\" text\n",
    "                ```py\n",
    "                ...\n",
    "                soup = BeautifulSoup(html, \"html.parser\")\n",
    "\n",
    "                # find first element with `<h1>` tag\n",
    "                soup.find(\"h1\")\n",
    "\n",
    "                # or, find first element with `<h1>` tag and `class` attribute with value `title`\n",
    "                soup.find(\"h1\", {\"class\":\"title\"})\n",
    "                ```\n",
    "    - .find_all() -> find one or more elements in a HTML that matches your criteria.\n",
    "    - reference: https://scrapeops.io/python-web-scraping-playbook/python-beautifulsoup-find/"
   ]
  },
  {
   "cell_type": "markdown",
   "metadata": {},
   "source": [
    "## Data Extraction"
   ]
  },
  {
   "cell_type": "markdown",
   "metadata": {},
   "source": [
    "### Use Case 1\n",
    "\n",
    "- Target URL: https://www.scrapethissite.com/pages/simple/\n",
    "- Extract data:\n",
    "    - Country\n",
    "    - Capital City\n",
    "    - Area\n",
    "    - Population"
   ]
  },
  {
   "cell_type": "code",
   "execution_count": null,
   "metadata": {},
   "outputs": [],
   "source": [
    "# code here"
   ]
  },
  {
   "cell_type": "markdown",
   "metadata": {},
   "source": [
    "### Use Case 2\n",
    "\n",
    "- Target URL: https://www.scrapethissite.com/pages/forms/\n",
    "- Extract data:\n",
    "    - Team Name\n",
    "    - Year\n",
    "    - Win percentage (%)"
   ]
  },
  {
   "cell_type": "code",
   "execution_count": null,
   "metadata": {},
   "outputs": [],
   "source": [
    "# code here"
   ]
  },
  {
   "cell_type": "markdown",
   "metadata": {},
   "source": [
    "### Use Case 3\n",
    "\n",
    "- Target URL: https://www.gramedia.com/categories/buku/komik\n",
    "- Extract data:\n",
    "    - Judul\n",
    "    - Penulis\n",
    "    - Harga"
   ]
  },
  {
   "cell_type": "code",
   "execution_count": null,
   "metadata": {},
   "outputs": [],
   "source": [
    "# code here"
   ]
  },
  {
   "cell_type": "markdown",
   "metadata": {},
   "source": [
    "## References"
   ]
  },
  {
   "cell_type": "markdown",
   "metadata": {},
   "source": [
    "- FTDS Colab https://colab.research.google.com/github/FTDS-learning-materials/phase-0/blob/main/w3/P0W3D1PM%20-%20Web%20Scraping.ipynb\n",
    "- Codecademy https://www.codecademy.com/article/web-scrape-with-selenium-and-beautiful-soup\n",
    "- FreeCodeCamp https://www.freecodecamp.org/news/better-web-scraping-in-python-with-selenium-beautiful-soup-and-pandas-d6390592e251/"
   ]
  }
 ],
 "metadata": {
  "kernelspec": {
   "display_name": "base",
   "language": "python",
   "name": "python3"
  },
  "language_info": {
   "codemirror_mode": {
    "name": "ipython",
    "version": 3
   },
   "file_extension": ".py",
   "mimetype": "text/x-python",
   "name": "python",
   "nbconvert_exporter": "python",
   "pygments_lexer": "ipython3",
   "version": "3.12.2"
  }
 },
 "nbformat": 4,
 "nbformat_minor": 2
}
